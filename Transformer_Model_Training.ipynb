{
  "nbformat": 4,
  "nbformat_minor": 0,
  "metadata": {
    "colab": {
      "name": " Transformer Model Training.ipynb",
      "provenance": [],
      "collapsed_sections": [
        "OGZqvWKS8p0w"
      ],
      "include_colab_link": true
    },
    "kernelspec": {
      "name": "python3",
      "display_name": "Python 3"
    },
    "language_info": {
      "name": "python"
    },
    "accelerator": "GPU",
    "widgets": {
      "application/vnd.jupyter.widget-state+json": {
        "a72cfebe896f4caaa48234f770180f29": {
          "model_module": "@jupyter-widgets/controls",
          "model_name": "HBoxModel",
          "state": {
            "_view_name": "HBoxView",
            "_dom_classes": [],
            "_model_name": "HBoxModel",
            "_view_module": "@jupyter-widgets/controls",
            "_model_module_version": "1.5.0",
            "_view_count": null,
            "_view_module_version": "1.5.0",
            "box_style": "",
            "layout": "IPY_MODEL_a9af3db689e44164bf2c5af5b938213c",
            "_model_module": "@jupyter-widgets/controls",
            "children": [
              "IPY_MODEL_23c043103e9f49b7a25d06f522539ee1",
              "IPY_MODEL_c806e17b927542ac8d8a452f8e5f9c82"
            ]
          }
        },
        "a9af3db689e44164bf2c5af5b938213c": {
          "model_module": "@jupyter-widgets/base",
          "model_name": "LayoutModel",
          "state": {
            "_view_name": "LayoutView",
            "grid_template_rows": null,
            "right": null,
            "justify_content": null,
            "_view_module": "@jupyter-widgets/base",
            "overflow": null,
            "_model_module_version": "1.2.0",
            "_view_count": null,
            "flex_flow": null,
            "width": null,
            "min_width": null,
            "border": null,
            "align_items": null,
            "bottom": null,
            "_model_module": "@jupyter-widgets/base",
            "top": null,
            "grid_column": null,
            "overflow_y": null,
            "overflow_x": null,
            "grid_auto_flow": null,
            "grid_area": null,
            "grid_template_columns": null,
            "flex": null,
            "_model_name": "LayoutModel",
            "justify_items": null,
            "grid_row": null,
            "max_height": null,
            "align_content": null,
            "visibility": null,
            "align_self": null,
            "height": null,
            "min_height": null,
            "padding": null,
            "grid_auto_rows": null,
            "grid_gap": null,
            "max_width": null,
            "order": null,
            "_view_module_version": "1.2.0",
            "grid_template_areas": null,
            "object_position": null,
            "object_fit": null,
            "grid_auto_columns": null,
            "margin": null,
            "display": null,
            "left": null
          }
        },
        "23c043103e9f49b7a25d06f522539ee1": {
          "model_module": "@jupyter-widgets/controls",
          "model_name": "FloatProgressModel",
          "state": {
            "_view_name": "ProgressView",
            "style": "IPY_MODEL_ae02ae6e109341beb386bdc43e28fea6",
            "_dom_classes": [],
            "description": " 58%",
            "_model_name": "FloatProgressModel",
            "bar_style": "danger",
            "max": 35,
            "_view_module": "@jupyter-widgets/controls",
            "_model_module_version": "1.5.0",
            "value": 20.31578947368453,
            "_view_count": null,
            "_view_module_version": "1.5.0",
            "orientation": "horizontal",
            "min": 0,
            "description_tooltip": null,
            "_model_module": "@jupyter-widgets/controls",
            "layout": "IPY_MODEL_b24dcca961104852b3b8c4371a3384aa"
          }
        },
        "c806e17b927542ac8d8a452f8e5f9c82": {
          "model_module": "@jupyter-widgets/controls",
          "model_name": "HTMLModel",
          "state": {
            "_view_name": "HTMLView",
            "style": "IPY_MODEL_f8cf2ea876ed46778bfd146381d21496",
            "_dom_classes": [],
            "description": "",
            "_model_name": "HTMLModel",
            "placeholder": "​",
            "_view_module": "@jupyter-widgets/controls",
            "_model_module_version": "1.5.0",
            "value": " 20.31578947368453/35 [42:26&lt;30:40, 125.36s/it]",
            "_view_count": null,
            "_view_module_version": "1.5.0",
            "description_tooltip": null,
            "_model_module": "@jupyter-widgets/controls",
            "layout": "IPY_MODEL_d2c5b80ad9fd4f269bfd8708dbde83eb"
          }
        },
        "ae02ae6e109341beb386bdc43e28fea6": {
          "model_module": "@jupyter-widgets/controls",
          "model_name": "ProgressStyleModel",
          "state": {
            "_view_name": "StyleView",
            "_model_name": "ProgressStyleModel",
            "description_width": "initial",
            "_view_module": "@jupyter-widgets/base",
            "_model_module_version": "1.5.0",
            "_view_count": null,
            "_view_module_version": "1.2.0",
            "bar_color": null,
            "_model_module": "@jupyter-widgets/controls"
          }
        },
        "b24dcca961104852b3b8c4371a3384aa": {
          "model_module": "@jupyter-widgets/base",
          "model_name": "LayoutModel",
          "state": {
            "_view_name": "LayoutView",
            "grid_template_rows": null,
            "right": null,
            "justify_content": null,
            "_view_module": "@jupyter-widgets/base",
            "overflow": null,
            "_model_module_version": "1.2.0",
            "_view_count": null,
            "flex_flow": null,
            "width": null,
            "min_width": null,
            "border": null,
            "align_items": null,
            "bottom": null,
            "_model_module": "@jupyter-widgets/base",
            "top": null,
            "grid_column": null,
            "overflow_y": null,
            "overflow_x": null,
            "grid_auto_flow": null,
            "grid_area": null,
            "grid_template_columns": null,
            "flex": null,
            "_model_name": "LayoutModel",
            "justify_items": null,
            "grid_row": null,
            "max_height": null,
            "align_content": null,
            "visibility": null,
            "align_self": null,
            "height": null,
            "min_height": null,
            "padding": null,
            "grid_auto_rows": null,
            "grid_gap": null,
            "max_width": null,
            "order": null,
            "_view_module_version": "1.2.0",
            "grid_template_areas": null,
            "object_position": null,
            "object_fit": null,
            "grid_auto_columns": null,
            "margin": null,
            "display": null,
            "left": null
          }
        },
        "f8cf2ea876ed46778bfd146381d21496": {
          "model_module": "@jupyter-widgets/controls",
          "model_name": "DescriptionStyleModel",
          "state": {
            "_view_name": "StyleView",
            "_model_name": "DescriptionStyleModel",
            "description_width": "",
            "_view_module": "@jupyter-widgets/base",
            "_model_module_version": "1.5.0",
            "_view_count": null,
            "_view_module_version": "1.2.0",
            "_model_module": "@jupyter-widgets/controls"
          }
        },
        "d2c5b80ad9fd4f269bfd8708dbde83eb": {
          "model_module": "@jupyter-widgets/base",
          "model_name": "LayoutModel",
          "state": {
            "_view_name": "LayoutView",
            "grid_template_rows": null,
            "right": null,
            "justify_content": null,
            "_view_module": "@jupyter-widgets/base",
            "overflow": null,
            "_model_module_version": "1.2.0",
            "_view_count": null,
            "flex_flow": null,
            "width": null,
            "min_width": null,
            "border": null,
            "align_items": null,
            "bottom": null,
            "_model_module": "@jupyter-widgets/base",
            "top": null,
            "grid_column": null,
            "overflow_y": null,
            "overflow_x": null,
            "grid_auto_flow": null,
            "grid_area": null,
            "grid_template_columns": null,
            "flex": null,
            "_model_name": "LayoutModel",
            "justify_items": null,
            "grid_row": null,
            "max_height": null,
            "align_content": null,
            "visibility": null,
            "align_self": null,
            "height": null,
            "min_height": null,
            "padding": null,
            "grid_auto_rows": null,
            "grid_gap": null,
            "max_width": null,
            "order": null,
            "_view_module_version": "1.2.0",
            "grid_template_areas": null,
            "object_position": null,
            "object_fit": null,
            "grid_auto_columns": null,
            "margin": null,
            "display": null,
            "left": null
          }
        }
      }
    }
  },
  "cells": [
    {
      "cell_type": "markdown",
      "metadata": {
        "id": "view-in-github",
        "colab_type": "text"
      },
      "source": [
        "<a href=\"https://colab.research.google.com/github/harshading/Hindi-Facial-Emotion-Synthesis/blob/master/Transformer_Model_Training.ipynb\" target=\"_parent\"><img src=\"https://colab.research.google.com/assets/colab-badge.svg\" alt=\"Open In Colab\"/></a>"
      ]
    },
    {
      "cell_type": "markdown",
      "metadata": {
        "id": "NU2tucBu-pMN"
      },
      "source": [
        "https://towardsdatascience.com/automatic-speech-recognition-data-collection-with-youtube-v3-api-mask-rcnn-and-google-vision-api-2370d6776109"
      ]
    },
    {
      "cell_type": "code",
      "metadata": {
        "colab": {
          "base_uri": "https://localhost:8080/"
        },
        "id": "8sI7SKhvV7Ea",
        "outputId": "208f8271-b067-40bd-fcb2-7edd146edb0d"
      },
      "source": [
        "from google.colab import drive\n",
        "drive.mount('/content/drive')"
      ],
      "execution_count": null,
      "outputs": [
        {
          "output_type": "stream",
          "text": [
            "Drive already mounted at /content/drive; to attempt to forcibly remount, call drive.mount(\"/content/drive\", force_remount=True).\n"
          ],
          "name": "stdout"
        }
      ]
    },
    {
      "cell_type": "markdown",
      "metadata": {
        "id": "A-8iOF8kd6_h"
      },
      "source": [
        "#Imports"
      ]
    },
    {
      "cell_type": "code",
      "metadata": {
        "id": "Won7JAiPe_wL"
      },
      "source": [
        "%%capture\n",
        "\n",
        "# GPU:\n",
        "!pip install torch==1.7.0+cu101 torchvision==0.8.1+cu101 torchaudio==0.7.0 -f https://download.pytorch.org/whl/torch_stable.html\n",
        "\n",
        "# For interactive demo at the end:\n",
        "!pip install pydub\n",
        "# !pip install torchaudio\n",
        "import torch\n",
        "import torch.nn as nn\n",
        "import torch.nn.functional as F\n",
        "import torch.optim as optim\n",
        "import torchaudio\n",
        "import math\n",
        "from torch.autograd import Variable\n",
        "\n",
        "import matplotlib.pyplot as plt\n",
        "import IPython.display as ipd\n",
        "from tqdm.notebook import tqdm"
      ],
      "execution_count": null,
      "outputs": []
    },
    {
      "cell_type": "code",
      "metadata": {
        "colab": {
          "base_uri": "https://localhost:8080/"
        },
        "id": "RSiyBLsmrvde",
        "outputId": "a818d3ff-fba2-4bcd-ac18-bb6be8dc6686"
      },
      "source": [
        "device = torch.device(\"cuda\" if torch.cuda.is_available() else \"cpu\")\n",
        "print(device)"
      ],
      "execution_count": null,
      "outputs": [
        {
          "output_type": "stream",
          "text": [
            "cuda\n"
          ],
          "name": "stdout"
        }
      ]
    },
    {
      "cell_type": "markdown",
      "metadata": {
        "id": "vYGPqh-NJpGD"
      },
      "source": [
        "#Load Data"
      ]
    },
    {
      "cell_type": "code",
      "metadata": {
        "id": "kglRnJLTJqh7"
      },
      "source": [
        "data_dir = '/content/drive/MyDrive/ASR_Project/'\n",
        "au_dir = data_dir+'au_dir/'\n",
        "audio_dir = data_dir+'split_audios_dir/'"
      ],
      "execution_count": null,
      "outputs": []
    },
    {
      "cell_type": "code",
      "metadata": {
        "id": "tH-GqmWHUDSO"
      },
      "source": [
        "import os\n",
        "from os import listdir\n",
        "from os.path import isfile, join\n",
        "import pandas as pd\n",
        "\n",
        "def load_audios():\n",
        "    onlyfiles = [f for f in listdir(audio_dir) if isfile(join(audio_dir, f))]\n",
        "    audio_dataset = [(f[:-4], *torchaudio.load(audio_dir+f)) for f in onlyfiles]\n",
        "    return audio_dataset\n",
        "\n",
        "def load_aus():\n",
        "    onlyfiles = [f for f in listdir(au_dir) if isfile(join(au_dir,f))]\n",
        "    columns = pd.read_csv(au_dir+onlyfiles[0], delimiter=',').columns[1:]\n",
        "    au_dataset = [(f[:-8], pd.read_csv(au_dir+f, delimiter=',').mean().values[1:]) for f in onlyfiles]\n",
        "    return columns, au_dataset"
      ],
      "execution_count": null,
      "outputs": []
    },
    {
      "cell_type": "code",
      "metadata": {
        "id": "qsJTJ-QBVbCG"
      },
      "source": [
        "audio_dataset = load_audios()"
      ],
      "execution_count": null,
      "outputs": []
    },
    {
      "cell_type": "code",
      "metadata": {
        "colab": {
          "base_uri": "https://localhost:8080/"
        },
        "id": "kl5G_U4EUUmA",
        "outputId": "8ec376ba-d119-4719-a8ee-4cb9f0b0726f"
      },
      "source": [
        "print(f\"Total Audio Files: {len(audio_dataset)}\")"
      ],
      "execution_count": null,
      "outputs": [
        {
          "output_type": "stream",
          "text": [
            "Total Audio Files: 1202\n"
          ],
          "name": "stdout"
        }
      ]
    },
    {
      "cell_type": "code",
      "metadata": {
        "id": "EWw8wI9pWukb"
      },
      "source": [
        "au_header, au_dataset = load_aus()"
      ],
      "execution_count": null,
      "outputs": []
    },
    {
      "cell_type": "code",
      "metadata": {
        "colab": {
          "base_uri": "https://localhost:8080/"
        },
        "id": "wgFhv0WxW_e7",
        "outputId": "a00a7557-a395-48b7-b358-65af7837285b"
      },
      "source": [
        "print(f\"Total Au Files: {len(au_dataset)}\")"
      ],
      "execution_count": null,
      "outputs": [
        {
          "output_type": "stream",
          "text": [
            "Total Au Files: 1202\n"
          ],
          "name": "stdout"
        }
      ]
    },
    {
      "cell_type": "code",
      "metadata": {
        "colab": {
          "base_uri": "https://localhost:8080/"
        },
        "id": "VnsyeSAxdXzT",
        "outputId": "15eb45bc-60fc-43e1-f036-333b82c9144a"
      },
      "source": [
        "print(f\"All sample rates: {set([data[2] for data in audio_dataset])}\")"
      ],
      "execution_count": null,
      "outputs": [
        {
          "output_type": "stream",
          "text": [
            "All sample rates: {44100}\n"
          ],
          "name": "stdout"
        }
      ]
    },
    {
      "cell_type": "code",
      "metadata": {
        "id": "QUTe3GEeGuVi"
      },
      "source": [
        "resample_transform = torchaudio.transforms.Resample(44100, 16000)"
      ],
      "execution_count": null,
      "outputs": []
    },
    {
      "cell_type": "code",
      "metadata": {
        "colab": {
          "base_uri": "https://localhost:8080/",
          "height": 317
        },
        "id": "4HRd-V5tT63i",
        "outputId": "e9ff3f83-0cdd-4a69-d89b-ab5b053b88b4"
      },
      "source": [
        "name, waveform, sample_rate = audio_dataset[0]\n",
        "print(f\"Name of file: {name}\")\n",
        "print(f\"Shape of waveform: {resample_transform(waveform).size()}\")\n",
        "print(f\"Sample rate of waveform: {sample_rate}\")\n",
        "\n",
        "plt.plot(waveform.t().numpy());"
      ],
      "execution_count": null,
      "outputs": [
        {
          "output_type": "stream",
          "text": [
            "Name of file: avr_NZZWN6g-235\n",
            "Shape of waveform: torch.Size([2, 81920])\n",
            "Sample rate of waveform: 44100\n"
          ],
          "name": "stdout"
        },
        {
          "output_type": "display_data",
          "data": {
            "image/png": "[encoded data removed]",
            "text/plain": [
              "<Figure size 432x288 with 1 Axes>"
            ]
          },
          "metadata": {
            "tags": [],
            "needs_background": "light"
          }
        }
      ]
    },
    {
      "cell_type": "code",
      "metadata": {
        "id": "oUO5prBUT_3F"
      },
      "source": [
        "#========== CHECK Speech\n",
        "# display(ipd.Audio(waveform,  rate=sample_rate))\n",
        "# print(f\"Sample Rate: {sample_rate}\")"
      ],
      "execution_count": null,
      "outputs": []
    },
    {
      "cell_type": "code",
      "metadata": {
        "colab": {
          "base_uri": "https://localhost:8080/"
        },
        "id": "aN98sWCYUIux",
        "outputId": "fd6d4253-938b-41eb-adb7-0bb9683c35fc"
      },
      "source": [
        "melspec_transform = torchaudio.transforms.MelSpectrogram(sample_rate=16000)\n",
        "wave_melspec   = melspec_transform(resample_transform(waveform))\n",
        "print(wave_melspec.shape)"
      ],
      "execution_count": null,
      "outputs": [
        {
          "output_type": "stream",
          "text": [
            "/usr/local/lib/python3.7/dist-packages/torchaudio/functional.py:318: UserWarning: At least one mel filterbank has all zero values. The value for `n_mels` (128) may be set too high. Or, the value for `n_freqs` (201) may be set too low.\n",
            "  \"At least one mel filterbank has all zero values. \"\n"
          ],
          "name": "stderr"
        },
        {
          "output_type": "stream",
          "text": [
            "torch.Size([2, 128, 410])\n"
          ],
          "name": "stdout"
        },
        {
          "output_type": "stream",
          "text": [
            "/usr/local/lib/python3.7/dist-packages/torch/functional.py:516: UserWarning: stft will require the return_complex parameter be explicitly  specified in a future PyTorch release. Use return_complex=False  to preserve the current behavior or return_complex=True to return  a complex output. (Triggered internally at  /pytorch/aten/src/ATen/native/SpectralOps.cpp:653.)\n",
            "  normalized, onesided, return_complex)\n",
            "/usr/local/lib/python3.7/dist-packages/torch/functional.py:516: UserWarning: The function torch.rfft is deprecated and will be removed in a future PyTorch release. Use the new torch.fft module functions, instead, by importing torch.fft and calling torch.fft.fft or torch.fft.rfft. (Triggered internally at  /pytorch/aten/src/ATen/native/SpectralOps.cpp:590.)\n",
            "  normalized, onesided, return_complex)\n"
          ],
          "name": "stderr"
        }
      ]
    },
    {
      "cell_type": "code",
      "metadata": {
        "colab": {
          "base_uri": "https://localhost:8080/"
        },
        "id": "GCrIpG9FcYt9",
        "outputId": "51d8e40d-f1ef-4851-c7f5-c5c91034cfb9"
      },
      "source": [
        "name, au_array = au_dataset[0]\n",
        "print(f\"AU Header: {au_header}\")\n",
        "print(f\"Name of file: {name}\")\n",
        "print(f\"Shape of AU: {au_array.shape}\")\n",
        "print(f\"AU: {au_array}\")"
      ],
      "execution_count": null,
      "outputs": [
        {
          "output_type": "stream",
          "text": [
            "AU Header: Index(['AU01_r', 'AU02_r', 'AU04_r', 'AU05_r', 'AU06_r', 'AU07_r', 'AU09_r',\n",
            "       'AU10_r', 'AU12_r', 'AU14_r', 'AU15_r', 'AU17_r', 'AU20_r', 'AU23_r',\n",
            "       'AU25_r', 'AU26_r', 'AU45_r'],\n",
            "      dtype='object')\n",
            "Name of file: avr_NZZWN6g-033\n",
            "Shape of AU: (17,)\n",
            "AU: [0.1425     0.04932692 0.44548077 0.05403846 0.80692308 0.22346154\n",
            " 0.04259615 0.32009615 0.43384615 0.48163462 0.08644231 0.43682692\n",
            " 0.06778846 0.12048077 0.30653846 0.36923077 0.12471154]\n"
          ],
          "name": "stdout"
        }
      ]
    },
    {
      "cell_type": "code",
      "metadata": {
        "id": "Xyf3_KGbeeX9"
      },
      "source": [
        "audio_mapset = {}\n",
        "for name, wave_arr, _ in audio_dataset:\n",
        "    audio_mapset[name] = wave_arr\n",
        "\n",
        "au_mapset = {}\n",
        "for name, au_arr in au_dataset:\n",
        "    au_mapset[name] = au_arr\n",
        "\n",
        "total_dataset = [(name, resample_transform(audio_mapset[name]), au_mapset[name]) for name in audio_mapset]"
      ],
      "execution_count": null,
      "outputs": []
    },
    {
      "cell_type": "code",
      "metadata": {
        "id": "rSJIlYo_gIab"
      },
      "source": [
        "import random\n",
        "random.shuffle(total_dataset)"
      ],
      "execution_count": null,
      "outputs": []
    },
    {
      "cell_type": "code",
      "metadata": {
        "colab": {
          "base_uri": "https://localhost:8080/"
        },
        "id": "sUoJTAxfHkwK",
        "outputId": "81dc5205-777a-44a2-8f6d-05031d1beb0f"
      },
      "source": [
        "print(f\"Total Length: {len(total_dataset)}\")\n",
        "\n",
        "name, audio_arr, au_arr = total_dataset[0]\n",
        "print(f\"Name: {name}\")\n",
        "print(f\"Normal Audio Shape: {audio_arr.shape}\")\n",
        "print(f\"Mono Audio Shape: {audio_arr.mean(dim=0).shape}\")\n",
        "print(f\"Mono Audo Feature Shape: {melspec_transform(audio_arr.mean(dim=0)).unsqueeze(0).shape}\")\n",
        "print(f\"Au Shape: {au_arr.shape}\")"
      ],
      "execution_count": null,
      "outputs": [
        {
          "output_type": "stream",
          "text": [
            "Total Length: 1202\n",
            "Name: kjZdtb52LRs-026\n",
            "Normal Audio Shape: torch.Size([2, 86100])\n",
            "Mono Audio Shape: torch.Size([86100])\n",
            "Mono Audo Feature Shape: torch.Size([1, 128, 431])\n",
            "Au Shape: (17,)\n"
          ],
          "name": "stdout"
        }
      ]
    },
    {
      "cell_type": "code",
      "metadata": {
        "colab": {
          "base_uri": "https://localhost:8080/"
        },
        "id": "wNQFTIgMHrLR",
        "outputId": "80035736-b734-4465-b65d-7b219552a4f1"
      },
      "source": [
        "all_audio_lengths = sorted(set([element[1].shape[1] for element in total_dataset]), reverse=True)\n",
        "max_audio_length = max(all_audio_lengths)\n",
        "print(f\"All Audio Lengths: {all_audio_lengths}\")\n",
        "print(f\"Max Audio Length: {max_audio_length}\")"
      ],
      "execution_count": null,
      "outputs": [
        {
          "output_type": "stream",
          "text": [
            "All Audio Lengths: [88190, 87772, 87354, 86936, 86518, 86100, 85682, 85264, 84846, 84428, 84010, 83174, 82756, 82338, 81920, 81503, 81085, 80667, 80249, 79413, 78995, 77741, 77323, 76905, 76487, 76069, 75651, 74815, 73979, 73561, 72725, 71054, 70636, 70218, 69800, 69382, 68964, 68546, 67292, 66874, 64784, 64366, 63948, 60187, 56425, 56007, 55589, 54335, 52245, 50156, 49738, 49320, 48902, 48484, 47230, 46812, 43886, 43468, 42214, 39289, 38871, 33437, 28840, 28004, 27168, 24660, 24242, 19645, 19227, 14629, 10867, 8352, 7937, 6673, 6256, 5841, 5008, 2080, 1249, 832]\n",
            "Max Audio Length: 88190\n"
          ],
          "name": "stdout"
        }
      ]
    },
    {
      "cell_type": "code",
      "metadata": {
        "id": "QxmVo0T_iJ9k",
        "colab": {
          "base_uri": "https://localhost:8080/"
        },
        "outputId": "b8fb6d12-dad9-40ee-84f3-9c6c5bf12eab"
      },
      "source": [
        "total_length = len(total_dataset)\n",
        "train_length = int(total_length * 0.9)\n",
        "\n",
        "train_dataset = total_dataset[:train_length]\n",
        "test_dataset = total_dataset[train_length:]\n",
        "print(f\"Train Length: {len(train_dataset)}\")\n",
        "print(f\"Test Length: {len(test_dataset)}\")"
      ],
      "execution_count": null,
      "outputs": [
        {
          "output_type": "stream",
          "text": [
            "Train Length: 1081\n",
            "Test Length: 121\n"
          ],
          "name": "stdout"
        }
      ]
    },
    {
      "cell_type": "markdown",
      "metadata": {
        "id": "FxMwNiUIV7eG"
      },
      "source": [
        "#Transformer Based Model"
      ]
    },
    {
      "cell_type": "markdown",
      "metadata": {
        "id": "i0whJ9Oik1kw"
      },
      "source": [
        "Positional Encoding"
      ]
    },
    {
      "cell_type": "code",
      "metadata": {
        "id": "yRBiYFAOUbJc"
      },
      "source": [
        "class PositionalEncoder(nn.Module):\n",
        "    def __init__(self, d_model, max_seq_len, dropout=0.1):\n",
        "        super().__init__()\n",
        "        self.d_model = d_model\n",
        "        self.dropout = nn.Dropout(p=dropout)\n",
        "\n",
        "\n",
        "        pe = torch.zeros(max_seq_len, d_model)\n",
        "        position = torch.arange(0, max_seq_len, dtype=torch.float).unsqueeze(1)\n",
        "        div_term = torch.exp(torch.arange(0, d_model, 2).float() * (-math.log(10000.0) / d_model))\n",
        "        pe[:, 0::2] = torch.sin(position * div_term)\n",
        "        pe[:, 1::2] = torch.cos(position * div_term)\n",
        "\n",
        "        pe = pe.unsqueeze(0)\n",
        "        self.register_buffer('pe', pe)\n",
        "    \n",
        "    def forward(self, x):\n",
        "        # add pe constatns to embeddings\n",
        "        seq_len = x.size(1)\n",
        "\n",
        "        # print(f\"PE Shape:{self.pe.shape}\")\n",
        "        # print(f\"X shape: {x.shape}\")\n",
        "        # print(f\"Seq Len: {seq_len}\")\n",
        "        # print(f\"Added PE Shape: {self.pe[:,:seq_len,:].shape}\")\n",
        "\n",
        "        x = x + self.pe[:,:seq_len, :]  #.cuda().detach()\n",
        "        return self.dropout(x)"
      ],
      "execution_count": null,
      "outputs": []
    },
    {
      "cell_type": "code",
      "metadata": {
        "id": "BM9RwLVSmB5O"
      },
      "source": [
        "class Encoder(nn.Module):\n",
        "    def __init__(self, d_model, N_encoder_layers, heads, d_ff, max_seq_len):\n",
        "        super().__init__()\n",
        "        self.N = N_encoder_layers\n",
        "        # self.embed = Embedder(vocab_size, d_model)\n",
        "        self.pe = PositionalEncoder(d_model, max_seq_len)\n",
        "        self.encoder = nn.TransformerEncoder(\n",
        "            nn.TransformerEncoderLayer(d_model, heads, d_ff, dropout=0.3),\n",
        "            self.N\n",
        "        )\n",
        "        # self.layers = get_clones(\n",
        "        #     EncoderLayer(d_model, heads, d_ff),\n",
        "        #     # nn.TransformerEncoderLayer(d_model, heads, d_ff),\n",
        "        #      self.N)\n",
        "        self.norm = nn.LayerNorm(d_model)\n",
        "    def forward(self, src):\n",
        "        # print(f\"Before PE X shape: {src.shape}\")\n",
        "        x = self.pe(src)\n",
        "\n",
        "        # x = (batch_size, seq_len, d_model)\n",
        "        # but Transformer Encoder layer accepts\n",
        "        # (seq_len, batch_size, d_model)\n",
        "        x = x.transpose(0,1)\n",
        "        x = self.encoder(x)\n",
        "        # for i in range(self.N):\n",
        "        #     x = self.layers[i](x)\n",
        "        x = x.transpose(0,1)\n",
        "        \n",
        "        return self.norm(x)"
      ],
      "execution_count": null,
      "outputs": []
    },
    {
      "cell_type": "code",
      "metadata": {
        "id": "kTs1PYEQtkGM"
      },
      "source": [
        "class CNNLayerNorm(nn.Module):\n",
        "    \"\"\"Layer normalization built for cnns input\"\"\"\n",
        "    def __init__(self, n_feats):\n",
        "        super(CNNLayerNorm, self).__init__()\n",
        "        self.layer_norm = nn.LayerNorm(n_feats)\n",
        "\n",
        "    def forward(self, x):\n",
        "        # x (batch, channel, feature, time)\n",
        "        x = x.transpose(2, 3).contiguous() # (batch, channel, time, feature)\n",
        "        x = self.layer_norm(x)\n",
        "        return x.transpose(2, 3).contiguous() # (batch, channel, feature, time) \n",
        "\n",
        "\n",
        "class ResidualCNN(nn.Module):\n",
        "    \"\"\"Residual CNN inspired by https://arxiv.org/pdf/1603.05027.pdf\n",
        "        except with layer norm instead of batcorch.Size([1, 43h norm\n",
        "    \"\"\"\n",
        "    def __init__(self, in_channels, out_channels, kernel, stride, dropout, n_feats):\n",
        "        super(ResidualCNN, self).__init__()\n",
        "\n",
        "        self.cnn1 = nn.Conv2d(in_channels, out_channels, kernel, stride, padding=kernel//2)\n",
        "        self.cnn2 = nn.Conv2d(out_channels, out_channels, kernel, stride, padding=kernel//2)\n",
        "        self.dropout1 = nn.Dropout(dropout)\n",
        "        self.dropout2 = nn.Dropout(dropout)\n",
        "        self.layer_norm1 = CNNLayerNorm(n_feats)\n",
        "        self.layer_norm2 = CNNLayerNorm(n_feats)\n",
        "\n",
        "    def forward(self, x):\n",
        "        residual = x  # (batch, channel, feature, time)\n",
        "        # print(f\"Before Layer Norm shape: {x.shape}\")\n",
        "        x = self.layer_norm1(x)\n",
        "        x = torch.tanh(x) #F.relu(x)\n",
        "        x = self.dropout1(x)\n",
        "        x = self.cnn1(x)\n",
        "        x = self.layer_norm2(x)\n",
        "        x = torch.tanh(x) #F.relu(x)\n",
        "        x = self.dropout2(x)\n",
        "        x = self.cnn2(x)\n",
        "        x += residual\n",
        "        return x # (batch, channel, feature, time)"
      ],
      "execution_count": null,
      "outputs": []
    },
    {
      "cell_type": "code",
      "metadata": {
        "id": "ruwZgQ97m8F2"
      },
      "source": [
        "class SpeechModel(nn.Module):\n",
        "    def __init__(self, max_seq_len, n_feats, N_cnn_layers, n_channels,\\\n",
        "                 N_encoder_layers, d_model, d_ff, heads,N_AUs,\\\n",
        "                 stride=2, dropout=0.1,\\\n",
        "        ):\n",
        "        super().__init__()\n",
        "        self.cnn = nn.Conv2d(1, n_channels, 3, stride=1, padding=3//2)\n",
        "        # cnn for extracting heirachal features\n",
        "\n",
        "        self.rescnn_layers = nn.Sequential(*[\n",
        "            ResidualCNN(n_channels, n_channels, kernel=3, stride=1, dropout=dropout, n_feats=n_feats) \n",
        "            for _ in range(N_cnn_layers)\n",
        "        ])\n",
        "        self.fc = nn.Linear(n_channels*n_feats, d_model) #n_channels\n",
        "\n",
        "        self.encoder = Encoder(d_model, N_encoder_layers, heads, d_ff, max_seq_len)\n",
        "        self.linear = nn.Linear(d_model, N_AUs)\n",
        "\n",
        "    def forward(self, src):  # input: (batch, 1, feature, time)\n",
        "        x = self.cnn(src)    # (batch, channel, feature, time)\n",
        "        # print(f\"After CNN shape: {x}\")\n",
        "\n",
        "        x = self.rescnn_layers(x)\n",
        "        # print(f\"After RES shape: {x}\")\n",
        "\n",
        "        sizes = x.size()\n",
        "        x = x.view(sizes[0], sizes[1]*sizes[2], sizes[3])  # (batch, channel*feature, time)\n",
        "        x = x.transpose(1, 2) # (batch, time, channel*feature)\n",
        "        x = self.fc(x)        # (batch, time, d_model)\n",
        "        x = torch.tanh(x)\n",
        "\n",
        "        # print(f\"Befor Encoder X shape: {x}\")\n",
        "\n",
        "        e_outputs = self.encoder(x) # (batch_size, seq_len, d_model)\n",
        "\n",
        "        # print(f\"Encoder Output: {e_outputs}\")\n",
        "        avg_enc   = torch.mean(x, -2)   # (batch_size, d_model)\n",
        "\n",
        "        # print(f\"Average Encoder: {avg_enc}\")\n",
        "        output = self.linear(avg_enc)  #(batch_size, N_AUs)\n",
        "\n",
        "        # print(f\"Output before Sigmoid: {output}\")\n",
        "        output = 5*nn.Sigmoid()(output)\n",
        "        # print(f\"Output : {output}\")\n",
        "        return output"
      ],
      "execution_count": null,
      "outputs": []
    },
    {
      "cell_type": "markdown",
      "metadata": {
        "id": "bC-QBkQY07An"
      },
      "source": [
        "#Data Loaders"
      ]
    },
    {
      "cell_type": "code",
      "metadata": {
        "id": "2aX8hGLF08Nq"
      },
      "source": [
        "def pad_sequence(batch):\n",
        "    # Make all tensor in a batch the same length by padding with zeros\n",
        "    batch = [item.t() for item in batch]\n",
        "    batch = torch.nn.utils.rnn.pad_sequence(batch, batch_first=True, padding_value=0.)\n",
        "\n",
        "      # >>> a = torch.ones(25, 300)\n",
        "      # >>> b = torch.ones(22, 300)\n",
        "      # >>> c = torch.ones(15, 300)\n",
        "      # >>> pad_sequence([a, b, c], True).size() = torch.Size([3, 25, 300])\n",
        "      # Pad Mask Not Requires since spectogram take care of zeros\n",
        "    return batch.permute(0, 2, 1)\n",
        "\n",
        "\n",
        "def collate_fn(batch):\n",
        "\n",
        "    # A data tuple has the form:\n",
        "    # name, audo_arr, au_arr\n",
        "\n",
        "    tensors, targets = [], []\n",
        "\n",
        "    # Gather in lists, and encode labels as indices\n",
        "    for name, audio_arr, au_arr in batch:\n",
        "        # print(f\"Audio Arr: {audio_arr.shape}\")\n",
        "        # print(f\"Au Arr: {au_arr.shape}\")\n",
        "        tensors += [audio_arr.mean(dim=0, keepdims=True)]\n",
        "        targets += [torch.tensor(au_arr)]\n",
        "\n",
        "    # Group the list of tensors into a batched tensor\n",
        "    tensors = pad_sequence(tensors)\n",
        "    targets = torch.stack(targets)\n",
        "    # print(f\"Tensors Shape: {tensors.shape}\")\n",
        "    # print(f\"Target Shape: {targets.shape}\")\n",
        "\n",
        "    return tensors, targets\n",
        "\n",
        "\n",
        "batch_size = 32\n",
        "# Train Length = 1081, Total Batches = 1081/32 = 34\n",
        "\n",
        "if device == \"cuda\":\n",
        "    num_workers = 1\n",
        "    pin_memory = True\n",
        "else:\n",
        "    num_workers = 0\n",
        "    pin_memory = False\n",
        "\n",
        "train_loader = torch.utils.data.DataLoader(\n",
        "    train_dataset,\n",
        "    batch_size=batch_size,\n",
        "    shuffle=True,\n",
        "    collate_fn=collate_fn,\n",
        "    num_workers=num_workers,\n",
        "    pin_memory=pin_memory,\n",
        ")\n",
        "test_loader = torch.utils.data.DataLoader(\n",
        "    test_dataset,\n",
        "    batch_size=batch_size,\n",
        "    shuffle=False,\n",
        "    drop_last=False,\n",
        "    collate_fn=collate_fn,\n",
        "    num_workers=num_workers,\n",
        "    pin_memory=pin_memory,\n",
        ")"
      ],
      "execution_count": null,
      "outputs": []
    },
    {
      "cell_type": "code",
      "metadata": {
        "colab": {
          "base_uri": "https://localhost:8080/"
        },
        "id": "bUcpUSgKk2oV",
        "outputId": "17a41327-4c5d-4d84-be8f-030ecf5d57e6"
      },
      "source": [
        "max_seq_length = 441 # We already know\n",
        "\n",
        "is_find_max_seq = False\n",
        "\n",
        "if is_find_max_seq:\n",
        "    for data, au in train_loader:\n",
        "        print(melspec_transform(data.to(device)).shape)\n",
        "    for data, au in test_loader:\n",
        "        print(melspec_transform(data.to(device)).shape)\n",
        "\n",
        "print(f\"Max Audio Length: {max_audio_length}\")\n",
        "print(f\"Max Seq Length: {max_seq_length}\")"
      ],
      "execution_count": null,
      "outputs": [
        {
          "output_type": "stream",
          "text": [
            "Max Audio Length: 88190\n",
            "Max Seq Length: 441\n"
          ],
          "name": "stdout"
        }
      ]
    },
    {
      "cell_type": "markdown",
      "metadata": {
        "id": "bRE2hTGjw6UG"
      },
      "source": [
        "#Parameters"
      ]
    },
    {
      "cell_type": "code",
      "metadata": {
        "id": "WkYFNJoLrtfi"
      },
      "source": [
        "heads = 8\n",
        "N_encoder_layers = 4\n",
        "d_model = 512 #512\n",
        "d_ff = 2048 #2048\n",
        "N_AUs = 17  # TO BE EDIT\n",
        "\n",
        "max_seq_len = 441 #max_seq_length # TO BE EDIT\n",
        "n_channels = 16\n",
        "N_cnn_layers = 1\n",
        "n_feats = 128 # TO BE EDIT\n",
        "n_mels = 128"
      ],
      "execution_count": null,
      "outputs": []
    },
    {
      "cell_type": "code",
      "metadata": {
        "id": "o_75ORMExjSL"
      },
      "source": [
        "model = SpeechModel(max_seq_len, n_feats, N_cnn_layers, n_channels, N_encoder_layers,\\\n",
        "                    d_model, d_ff, heads, N_AUs)"
      ],
      "execution_count": null,
      "outputs": []
    },
    {
      "cell_type": "code",
      "metadata": {
        "id": "wFk_1Ely6BRn"
      },
      "source": [
        "# Very Important to initialize parameters such that it stops\n",
        "# signal from fading or getting too big\n",
        "for p in model.parameters():\n",
        "  if p.dim() > 1:\n",
        "    nn.init.xavier_uniform_(p)\n"
      ],
      "execution_count": null,
      "outputs": []
    },
    {
      "cell_type": "code",
      "metadata": {
        "id": "f4uPsNknCF9a"
      },
      "source": [
        "clip_value = 1.0\n",
        "for p in model.parameters():\n",
        "  p.register_hook(lambda grad: torch.clamp(grad, -clip_value, clip_value))"
      ],
      "execution_count": null,
      "outputs": []
    },
    {
      "cell_type": "code",
      "metadata": {
        "colab": {
          "base_uri": "https://localhost:8080/"
        },
        "id": "gV_mUkFk69F6",
        "outputId": "cadc9f95-903a-423a-d364-6635c0735abc"
      },
      "source": [
        "print(f\"No of parameters: {sum([p.numel() for p in model.parameters() if p.requires_grad])}\")"
      ],
      "execution_count": null,
      "outputs": [
        {
          "output_type": "stream",
          "text": [
            "No of parameters: 13673681\n"
          ],
          "name": "stdout"
        }
      ]
    },
    {
      "cell_type": "code",
      "metadata": {
        "colab": {
          "base_uri": "https://localhost:8080/"
        },
        "id": "F-cscts17ZDp",
        "outputId": "852e19a5-e008-42e3-fecd-8e5893278bf9"
      },
      "source": [
        "model"
      ],
      "execution_count": null,
      "outputs": [
        {
          "output_type": "execute_result",
          "data": {
            "text/plain": [
              "SpeechModel(\n",
              "  (cnn): Conv2d(1, 16, kernel_size=(3, 3), stride=(1, 1), padding=(1, 1))\n",
              "  (rescnn_layers): Sequential(\n",
              "    (0): ResidualCNN(\n",
              "      (cnn1): Conv2d(16, 16, kernel_size=(3, 3), stride=(1, 1), padding=(1, 1))\n",
              "      (cnn2): Conv2d(16, 16, kernel_size=(3, 3), stride=(1, 1), padding=(1, 1))\n",
              "      (dropout1): Dropout(p=0.1, inplace=False)\n",
              "      (dropout2): Dropout(p=0.1, inplace=False)\n",
              "      (layer_norm1): CNNLayerNorm(\n",
              "        (layer_norm): LayerNorm((128,), eps=1e-05, elementwise_affine=True)\n",
              "      )\n",
              "      (layer_norm2): CNNLayerNorm(\n",
              "        (layer_norm): LayerNorm((128,), eps=1e-05, elementwise_affine=True)\n",
              "      )\n",
              "    )\n",
              "  )\n",
              "  (fc): Linear(in_features=2048, out_features=512, bias=True)\n",
              "  (encoder): Encoder(\n",
              "    (pe): PositionalEncoder(\n",
              "      (dropout): Dropout(p=0.1, inplace=False)\n",
              "    )\n",
              "    (encoder): TransformerEncoder(\n",
              "      (layers): ModuleList(\n",
              "        (0): TransformerEncoderLayer(\n",
              "          (self_attn): MultiheadAttention(\n",
              "            (out_proj): _LinearWithBias(in_features=512, out_features=512, bias=True)\n",
              "          )\n",
              "          (linear1): Linear(in_features=512, out_features=2048, bias=True)\n",
              "          (dropout): Dropout(p=0.3, inplace=False)\n",
              "          (linear2): Linear(in_features=2048, out_features=512, bias=True)\n",
              "          (norm1): LayerNorm((512,), eps=1e-05, elementwise_affine=True)\n",
              "          (norm2): LayerNorm((512,), eps=1e-05, elementwise_affine=True)\n",
              "          (dropout1): Dropout(p=0.3, inplace=False)\n",
              "          (dropout2): Dropout(p=0.3, inplace=False)\n",
              "        )\n",
              "        (1): TransformerEncoderLayer(\n",
              "          (self_attn): MultiheadAttention(\n",
              "            (out_proj): _LinearWithBias(in_features=512, out_features=512, bias=True)\n",
              "          )\n",
              "          (linear1): Linear(in_features=512, out_features=2048, bias=True)\n",
              "          (dropout): Dropout(p=0.3, inplace=False)\n",
              "          (linear2): Linear(in_features=2048, out_features=512, bias=True)\n",
              "          (norm1): LayerNorm((512,), eps=1e-05, elementwise_affine=True)\n",
              "          (norm2): LayerNorm((512,), eps=1e-05, elementwise_affine=True)\n",
              "          (dropout1): Dropout(p=0.3, inplace=False)\n",
              "          (dropout2): Dropout(p=0.3, inplace=False)\n",
              "        )\n",
              "        (2): TransformerEncoderLayer(\n",
              "          (self_attn): MultiheadAttention(\n",
              "            (out_proj): _LinearWithBias(in_features=512, out_features=512, bias=True)\n",
              "          )\n",
              "          (linear1): Linear(in_features=512, out_features=2048, bias=True)\n",
              "          (dropout): Dropout(p=0.3, inplace=False)\n",
              "          (linear2): Linear(in_features=2048, out_features=512, bias=True)\n",
              "          (norm1): LayerNorm((512,), eps=1e-05, elementwise_affine=True)\n",
              "          (norm2): LayerNorm((512,), eps=1e-05, elementwise_affine=True)\n",
              "          (dropout1): Dropout(p=0.3, inplace=False)\n",
              "          (dropout2): Dropout(p=0.3, inplace=False)\n",
              "        )\n",
              "        (3): TransformerEncoderLayer(\n",
              "          (self_attn): MultiheadAttention(\n",
              "            (out_proj): _LinearWithBias(in_features=512, out_features=512, bias=True)\n",
              "          )\n",
              "          (linear1): Linear(in_features=512, out_features=2048, bias=True)\n",
              "          (dropout): Dropout(p=0.3, inplace=False)\n",
              "          (linear2): Linear(in_features=2048, out_features=512, bias=True)\n",
              "          (norm1): LayerNorm((512,), eps=1e-05, elementwise_affine=True)\n",
              "          (norm2): LayerNorm((512,), eps=1e-05, elementwise_affine=True)\n",
              "          (dropout1): Dropout(p=0.3, inplace=False)\n",
              "          (dropout2): Dropout(p=0.3, inplace=False)\n",
              "        )\n",
              "      )\n",
              "    )\n",
              "    (norm): LayerNorm((512,), eps=1e-05, elementwise_affine=True)\n",
              "  )\n",
              "  (linear): Linear(in_features=512, out_features=17, bias=True)\n",
              ")"
            ]
          },
          "metadata": {
            "tags": []
          },
          "execution_count": 89
        }
      ]
    },
    {
      "cell_type": "markdown",
      "metadata": {
        "id": "EqsmHC217SnR"
      },
      "source": [
        "#Train"
      ]
    },
    {
      "cell_type": "code",
      "metadata": {
        "id": "axyxehlz2KY1"
      },
      "source": [
        "def train(model, epoch, log_interval):\n",
        "    model.to(device).double()\n",
        "    melspec_transform.to(device)\n",
        "\n",
        "    model.train()\n",
        "    for batch_idx, (data, target) in enumerate(train_loader):\n",
        "\n",
        "        data = melspec_transform(data.to(device)).to(device) # (batch_size, 1, feature, time)\n",
        "        target = target.to(device).double()\n",
        "        target[torch.isnan(target)] = 0\n",
        "\n",
        "        optimizer.zero_grad()\n",
        "        # print(f\"Before CNN: {data}\")\n",
        "        output = model(data.double())  #(batch_size, N_AUs)\n",
        "    \n",
        "        output =  output.view(-1, 1)\n",
        "        target =  target.view(-1, 1)\n",
        "        loss = F.mse_loss(output, target).double() # Mse Loss On(batch x N_AUs)\n",
        "\n",
        "        l2_lambda = 0.1  #0.01\n",
        "        l2_reg = torch.tensor(0.).to(device)\n",
        "        for param in model.parameters():\n",
        "          l2_reg += torch.norm(param)\n",
        "        loss += l2_lambda * l2_reg\n",
        "        # print(f\"Data Type: {data.dtype}\")\n",
        "        # print(f\"Output Type: {output.dtype}\")\n",
        "        # print(f\"Loss Type: {loss.dtype}\")\n",
        "\n",
        "        loss.backward()\n",
        "        nn.utils.clip_grad_norm_(model.parameters(), 1.0)\n",
        "        optimizer.step()\n",
        "\n",
        "        # print training stats\n",
        "        if batch_idx % log_interval == 0:\n",
        "            print(f\"Train Epoch: {epoch} [{batch_idx * len(data)}/{len(train_loader.dataset)} ({100. * batch_idx / len(train_loader):.0f}%)]\\tLoss: {loss.item():.6f}\")\n",
        "\n",
        "        # update progress bar\n",
        "        pbar.update(pbar_update)\n",
        "        # record loss\n",
        "        losses.append(loss.item())"
      ],
      "execution_count": null,
      "outputs": []
    },
    {
      "cell_type": "code",
      "metadata": {
        "id": "fFS_buEpLWdJ"
      },
      "source": [
        "def test(model, epoch):\n",
        "    model.to(device).double()\n",
        "    melspec_transform.to(device)\n",
        "\n",
        "    model.eval()\n",
        "    loss = 0\n",
        "\n",
        "    with torch.no_grad():\n",
        "      for data, target in test_loader:\n",
        "\n",
        "          data = melspec_transform(data.to(device)).to(device) # (batch_size, 1, feature, time)\n",
        "          target = target.to(device).double()\n",
        "          target[torch.isnan(target)] = 0\n",
        "\n",
        "          output = model(data.double())  #(batch_size, N_AUs)\n",
        "\n",
        "          # pred = get_likely_index(output)\n",
        "          # correct += number_of_correct(pred, target)\n",
        "          # print(f\"output:{output.shape}\")\n",
        "          # print(f\"target: {target.shape}\")\n",
        "          # print(f\"Data Type: {data.dtype}\")\n",
        "          # print(f\"Output Type: {output.dtype}\")\n",
        "\n",
        "          loss += F.mse_loss(output, target).double()\n",
        "          # print(loss)\n",
        "\n",
        "          # update progress bar\n",
        "          # pbar.update(pbar_update)\n",
        "\n",
        "    loss = loss/len(test_loader.dataset)\n",
        "    print(f\"\\n Test Epoch: {epoch} \\t Loss: {loss:.4f} \\n\")\n",
        "    return loss"
      ],
      "execution_count": null,
      "outputs": []
    },
    {
      "cell_type": "code",
      "metadata": {
        "colab": {
          "base_uri": "https://localhost:8080/"
        },
        "id": "LuWvHn8NMyXD",
        "outputId": "6787e27e-de10-4e58-e327-b6bdd70d661f"
      },
      "source": [
        "test(model, 1)"
      ],
      "execution_count": null,
      "outputs": [
        {
          "output_type": "stream",
          "text": [
            "\n",
            " Test Epoch: 1 \t Loss: 0.1733 \n",
            "\n"
          ],
          "name": "stdout"
        },
        {
          "output_type": "execute_result",
          "data": {
            "text/plain": [
              "tensor(0.1733, device='cuda:0', dtype=torch.float64)"
            ]
          },
          "metadata": {
            "tags": []
          },
          "execution_count": 104
        }
      ]
    },
    {
      "cell_type": "code",
      "metadata": {
        "id": "4S21S1ed6loy"
      },
      "source": [
        "optimizer = optim.Adam(model.parameters(), lr=0.0001, weight_decay=0.1)\n",
        "scheduler = optim.lr_scheduler.StepLR(optimizer, step_size=35, gamma=0.1)  # reduce the learning after 20 epochs by a factor of 10"
      ],
      "execution_count": null,
      "outputs": []
    },
    {
      "cell_type": "code",
      "metadata": {
        "id": "e_JwwtVXHS_h"
      },
      "source": [
        "for i,(name, child) in enumerate(model.named_children()):\n",
        "  for param in child.parameters():\n",
        "    print(f\"name: {name} => param: {param}\")"
      ],
      "execution_count": null,
      "outputs": []
    },
    {
      "cell_type": "code",
      "metadata": {
        "id": "0K7r5JFP3h93",
        "colab": {
          "base_uri": "https://localhost:8080/",
          "height": 1000,
          "referenced_widgets": [
            "a72cfebe896f4caaa48234f770180f29",
            "a9af3db689e44164bf2c5af5b938213c",
            "23c043103e9f49b7a25d06f522539ee1",
            "c806e17b927542ac8d8a452f8e5f9c82",
            "ae02ae6e109341beb386bdc43e28fea6",
            "b24dcca961104852b3b8c4371a3384aa",
            "f8cf2ea876ed46778bfd146381d21496",
            "d2c5b80ad9fd4f269bfd8708dbde83eb"
          ]
        },
        "outputId": "68bb61c7-dfa4-44d2-9661-0ed438371856"
      },
      "source": [
        "log_interval = 20\n",
        "#============ UPDATING number of epochs ====================\n",
        "n_epoch = 35\n",
        "\n",
        "pbar_update = 1 / (len(train_loader)+len(test_loader))\n",
        "losses = []\n",
        "\n",
        "# The transform needs to live on the same device as the model and the data.\n",
        "melspec_transform = melspec_transform.to(device)\n",
        "model = model.to(device)\n",
        "with tqdm(total=n_epoch) as pbar:\n",
        "    for epoch in range(1, n_epoch + 1):\n",
        "        train(model, epoch, log_interval)\n",
        "        losses += [test(model, epoch)]\n",
        "        if epoch % 7 == 0:\n",
        "          torch.save(model.state_dict(), data_dir+'/SunilModel')\n",
        "        scheduler.step()"
      ],
      "execution_count": null,
      "outputs": [
        {
          "output_type": "display_data",
          "data": {
            "application/vnd.jupyter.widget-view+json": {
              "model_id": "a72cfebe896f4caaa48234f770180f29",
              "version_minor": 0,
              "version_major": 2
            },
            "text/plain": [
              "HBox(children=(FloatProgress(value=0.0, max=35.0), HTML(value='')))"
            ]
          },
          "metadata": {
            "tags": []
          }
        },
        {
          "output_type": "stream",
          "text": [
            "Train Epoch: 1 [0/1081 (0%)]\tLoss: 76.071918\n",
            "Train Epoch: 1 [640/1081 (59%)]\tLoss: 69.737045\n",
            "\n",
            " Test Epoch: 1 \t Loss: 0.0243 \n",
            "\n",
            "Train Epoch: 2 [0/1081 (0%)]\tLoss: 67.123883\n",
            "Train Epoch: 2 [640/1081 (59%)]\tLoss: 64.042819\n",
            "\n",
            " Test Epoch: 2 \t Loss: 0.0062 \n",
            "\n",
            "Train Epoch: 3 [0/1081 (0%)]\tLoss: 62.264362\n",
            "Train Epoch: 3 [640/1081 (59%)]\tLoss: 59.956676\n",
            "\n",
            " Test Epoch: 3 \t Loss: 0.0058 \n",
            "\n",
            "Train Epoch: 4 [0/1081 (0%)]\tLoss: 58.379173\n",
            "Train Epoch: 4 [640/1081 (59%)]\tLoss: 56.169008\n",
            "\n",
            " Test Epoch: 4 \t Loss: 0.0056 \n",
            "\n",
            "Train Epoch: 5 [0/1081 (0%)]\tLoss: 54.773908\n",
            "Train Epoch: 5 [640/1081 (59%)]\tLoss: 52.821775\n",
            "\n",
            " Test Epoch: 5 \t Loss: 0.0055 \n",
            "\n",
            "Train Epoch: 6 [0/1081 (0%)]\tLoss: 51.513827\n",
            "Train Epoch: 6 [640/1081 (59%)]\tLoss: 49.688415\n",
            "\n",
            " Test Epoch: 6 \t Loss: 0.0053 \n",
            "\n",
            "Train Epoch: 7 [0/1081 (0%)]\tLoss: 48.494338\n",
            "Train Epoch: 7 [640/1081 (59%)]\tLoss: 46.842409\n",
            "\n",
            " Test Epoch: 7 \t Loss: 0.0054 \n",
            "\n",
            "Train Epoch: 8 [0/1081 (0%)]\tLoss: 45.725490\n",
            "Train Epoch: 8 [640/1081 (59%)]\tLoss: 44.228421\n",
            "\n",
            " Test Epoch: 8 \t Loss: 0.0053 \n",
            "\n",
            "Train Epoch: 9 [0/1081 (0%)]\tLoss: 43.191196\n",
            "Train Epoch: 9 [640/1081 (59%)]\tLoss: 41.844079\n",
            "\n",
            " Test Epoch: 9 \t Loss: 0.0051 \n",
            "\n",
            "Train Epoch: 10 [0/1081 (0%)]\tLoss: 40.835008\n",
            "Train Epoch: 10 [640/1081 (59%)]\tLoss: 39.606544\n",
            "\n",
            " Test Epoch: 10 \t Loss: 0.0052 \n",
            "\n",
            "Train Epoch: 11 [0/1081 (0%)]\tLoss: 38.726701\n",
            "Train Epoch: 11 [640/1081 (59%)]\tLoss: 37.564185\n",
            "\n",
            " Test Epoch: 11 \t Loss: 0.0051 \n",
            "\n",
            "Train Epoch: 12 [0/1081 (0%)]\tLoss: 36.762227\n",
            "Train Epoch: 12 [640/1081 (59%)]\tLoss: 35.708031\n",
            "\n",
            " Test Epoch: 12 \t Loss: 0.0051 \n",
            "\n",
            "Train Epoch: 13 [0/1081 (0%)]\tLoss: 35.010911\n",
            "Train Epoch: 13 [640/1081 (59%)]\tLoss: 33.998937\n",
            "\n",
            " Test Epoch: 13 \t Loss: 0.0050 \n",
            "\n",
            "Train Epoch: 14 [0/1081 (0%)]\tLoss: 33.389815\n",
            "Train Epoch: 14 [640/1081 (59%)]\tLoss: 32.446731\n",
            "\n",
            " Test Epoch: 14 \t Loss: 0.0052 \n",
            "\n",
            "Train Epoch: 15 [0/1081 (0%)]\tLoss: 31.895263\n",
            "Train Epoch: 15 [640/1081 (59%)]\tLoss: 31.073480\n",
            "\n",
            " Test Epoch: 15 \t Loss: 0.0051 \n",
            "\n",
            "Train Epoch: 16 [0/1081 (0%)]\tLoss: 30.519118\n",
            "Train Epoch: 16 [640/1081 (59%)]\tLoss: 29.820998\n",
            "\n",
            " Test Epoch: 16 \t Loss: 0.0051 \n",
            "\n",
            "Train Epoch: 17 [0/1081 (0%)]\tLoss: 29.342432\n",
            "Train Epoch: 17 [640/1081 (59%)]\tLoss: 28.669270\n",
            "\n",
            " Test Epoch: 17 \t Loss: 0.0051 \n",
            "\n",
            "Train Epoch: 18 [0/1081 (0%)]\tLoss: 28.266277\n",
            "Train Epoch: 18 [640/1081 (59%)]\tLoss: 27.637969\n",
            "\n",
            " Test Epoch: 18 \t Loss: 0.0051 \n",
            "\n",
            "Train Epoch: 19 [0/1081 (0%)]\tLoss: 27.248983\n",
            "Train Epoch: 19 [640/1081 (59%)]\tLoss: 26.683247\n",
            "\n",
            " Test Epoch: 19 \t Loss: 0.0053 \n",
            "\n",
            "Train Epoch: 20 [0/1081 (0%)]\tLoss: 26.352488\n",
            "Train Epoch: 20 [640/1081 (59%)]\tLoss: 25.836924\n",
            "\n",
            " Test Epoch: 20 \t Loss: 0.0053 \n",
            "\n",
            "Train Epoch: 21 [0/1081 (0%)]\tLoss: 25.542227\n",
            "Train Epoch: 21 [640/1081 (59%)]\tLoss: 25.096689\n",
            "\n",
            " Test Epoch: 21 \t Loss: 0.0054 \n",
            "\n",
            "Train Epoch: 22 [0/1081 (0%)]\tLoss: 24.789543\n",
            "Train Epoch: 22 [640/1081 (59%)]\tLoss: 24.391090\n",
            "\n",
            " Test Epoch: 22 \t Loss: 0.0055 \n",
            "\n",
            "Train Epoch: 23 [0/1081 (0%)]\tLoss: 24.099390\n",
            "Train Epoch: 23 [640/1081 (59%)]\tLoss: 23.758418\n",
            "\n"
          ],
          "name": "stdout"
        },
        {
          "output_type": "error",
          "ename": "KeyboardInterrupt",
          "evalue": "ignored",
          "traceback": [
            "\u001b[0;31m---------------------------------------------------------------------------\u001b[0m",
            "\u001b[0;31mKeyboardInterrupt\u001b[0m                         Traceback (most recent call last)",
            "\u001b[0;32m<ipython-input-107-e14b85d0b6a2>\u001b[0m in \u001b[0;36m<module>\u001b[0;34m()\u001b[0m\n\u001b[1;32m     11\u001b[0m \u001b[0;32mwith\u001b[0m \u001b[0mtqdm\u001b[0m\u001b[0;34m(\u001b[0m\u001b[0mtotal\u001b[0m\u001b[0;34m=\u001b[0m\u001b[0mn_epoch\u001b[0m\u001b[0;34m)\u001b[0m \u001b[0;32mas\u001b[0m \u001b[0mpbar\u001b[0m\u001b[0;34m:\u001b[0m\u001b[0;34m\u001b[0m\u001b[0;34m\u001b[0m\u001b[0m\n\u001b[1;32m     12\u001b[0m     \u001b[0;32mfor\u001b[0m \u001b[0mepoch\u001b[0m \u001b[0;32min\u001b[0m \u001b[0mrange\u001b[0m\u001b[0;34m(\u001b[0m\u001b[0;36m1\u001b[0m\u001b[0;34m,\u001b[0m \u001b[0mn_epoch\u001b[0m \u001b[0;34m+\u001b[0m \u001b[0;36m1\u001b[0m\u001b[0;34m)\u001b[0m\u001b[0;34m:\u001b[0m\u001b[0;34m\u001b[0m\u001b[0;34m\u001b[0m\u001b[0m\n\u001b[0;32m---> 13\u001b[0;31m         \u001b[0mtrain\u001b[0m\u001b[0;34m(\u001b[0m\u001b[0mmodel\u001b[0m\u001b[0;34m,\u001b[0m \u001b[0mepoch\u001b[0m\u001b[0;34m,\u001b[0m \u001b[0mlog_interval\u001b[0m\u001b[0;34m)\u001b[0m\u001b[0;34m\u001b[0m\u001b[0;34m\u001b[0m\u001b[0m\n\u001b[0m\u001b[1;32m     14\u001b[0m         \u001b[0mlosses\u001b[0m \u001b[0;34m+=\u001b[0m \u001b[0;34m[\u001b[0m\u001b[0mtest\u001b[0m\u001b[0;34m(\u001b[0m\u001b[0mmodel\u001b[0m\u001b[0;34m,\u001b[0m \u001b[0mepoch\u001b[0m\u001b[0;34m)\u001b[0m\u001b[0;34m]\u001b[0m\u001b[0;34m\u001b[0m\u001b[0;34m\u001b[0m\u001b[0m\n\u001b[1;32m     15\u001b[0m         \u001b[0;32mif\u001b[0m \u001b[0mepoch\u001b[0m \u001b[0;34m%\u001b[0m \u001b[0;36m7\u001b[0m \u001b[0;34m==\u001b[0m \u001b[0;36m0\u001b[0m\u001b[0;34m:\u001b[0m\u001b[0;34m\u001b[0m\u001b[0;34m\u001b[0m\u001b[0m\n",
            "\u001b[0;32m<ipython-input-102-6610e9d188f2>\u001b[0m in \u001b[0;36mtrain\u001b[0;34m(model, epoch, log_interval)\u001b[0m\n\u001b[1;32m     12\u001b[0m         \u001b[0moptimizer\u001b[0m\u001b[0;34m.\u001b[0m\u001b[0mzero_grad\u001b[0m\u001b[0;34m(\u001b[0m\u001b[0;34m)\u001b[0m\u001b[0;34m\u001b[0m\u001b[0;34m\u001b[0m\u001b[0m\n\u001b[1;32m     13\u001b[0m         \u001b[0;31m# print(f\"Before CNN: {data}\")\u001b[0m\u001b[0;34m\u001b[0m\u001b[0;34m\u001b[0m\u001b[0;34m\u001b[0m\u001b[0m\n\u001b[0;32m---> 14\u001b[0;31m         \u001b[0moutput\u001b[0m \u001b[0;34m=\u001b[0m \u001b[0mmodel\u001b[0m\u001b[0;34m(\u001b[0m\u001b[0mdata\u001b[0m\u001b[0;34m.\u001b[0m\u001b[0mdouble\u001b[0m\u001b[0;34m(\u001b[0m\u001b[0;34m)\u001b[0m\u001b[0;34m)\u001b[0m  \u001b[0;31m#(batch_size, N_AUs)\u001b[0m\u001b[0;34m\u001b[0m\u001b[0;34m\u001b[0m\u001b[0m\n\u001b[0m\u001b[1;32m     15\u001b[0m \u001b[0;34m\u001b[0m\u001b[0m\n\u001b[1;32m     16\u001b[0m         \u001b[0moutput\u001b[0m \u001b[0;34m=\u001b[0m  \u001b[0moutput\u001b[0m\u001b[0;34m.\u001b[0m\u001b[0mview\u001b[0m\u001b[0;34m(\u001b[0m\u001b[0;34m-\u001b[0m\u001b[0;36m1\u001b[0m\u001b[0;34m,\u001b[0m \u001b[0;36m1\u001b[0m\u001b[0;34m)\u001b[0m\u001b[0;34m\u001b[0m\u001b[0;34m\u001b[0m\u001b[0m\n",
            "\u001b[0;32m/usr/local/lib/python3.7/dist-packages/torch/nn/modules/module.py\u001b[0m in \u001b[0;36m_call_impl\u001b[0;34m(self, *input, **kwargs)\u001b[0m\n\u001b[1;32m    725\u001b[0m             \u001b[0mresult\u001b[0m \u001b[0;34m=\u001b[0m \u001b[0mself\u001b[0m\u001b[0;34m.\u001b[0m\u001b[0m_slow_forward\u001b[0m\u001b[0;34m(\u001b[0m\u001b[0;34m*\u001b[0m\u001b[0minput\u001b[0m\u001b[0;34m,\u001b[0m \u001b[0;34m**\u001b[0m\u001b[0mkwargs\u001b[0m\u001b[0;34m)\u001b[0m\u001b[0;34m\u001b[0m\u001b[0;34m\u001b[0m\u001b[0m\n\u001b[1;32m    726\u001b[0m         \u001b[0;32melse\u001b[0m\u001b[0;34m:\u001b[0m\u001b[0;34m\u001b[0m\u001b[0;34m\u001b[0m\u001b[0m\n\u001b[0;32m--> 727\u001b[0;31m             \u001b[0mresult\u001b[0m \u001b[0;34m=\u001b[0m \u001b[0mself\u001b[0m\u001b[0;34m.\u001b[0m\u001b[0mforward\u001b[0m\u001b[0;34m(\u001b[0m\u001b[0;34m*\u001b[0m\u001b[0minput\u001b[0m\u001b[0;34m,\u001b[0m \u001b[0;34m**\u001b[0m\u001b[0mkwargs\u001b[0m\u001b[0;34m)\u001b[0m\u001b[0;34m\u001b[0m\u001b[0;34m\u001b[0m\u001b[0m\n\u001b[0m\u001b[1;32m    728\u001b[0m         for hook in itertools.chain(\n\u001b[1;32m    729\u001b[0m                 \u001b[0m_global_forward_hooks\u001b[0m\u001b[0;34m.\u001b[0m\u001b[0mvalues\u001b[0m\u001b[0;34m(\u001b[0m\u001b[0;34m)\u001b[0m\u001b[0;34m,\u001b[0m\u001b[0;34m\u001b[0m\u001b[0;34m\u001b[0m\u001b[0m\n",
            "\u001b[0;32m<ipython-input-61-8b32a8243d04>\u001b[0m in \u001b[0;36mforward\u001b[0;34m(self, src)\u001b[0m\n\u001b[1;32m     29\u001b[0m         \u001b[0;31m# print(f\"Befor Encoder X shape: {x}\")\u001b[0m\u001b[0;34m\u001b[0m\u001b[0;34m\u001b[0m\u001b[0;34m\u001b[0m\u001b[0m\n\u001b[1;32m     30\u001b[0m \u001b[0;34m\u001b[0m\u001b[0m\n\u001b[0;32m---> 31\u001b[0;31m         \u001b[0me_outputs\u001b[0m \u001b[0;34m=\u001b[0m \u001b[0mself\u001b[0m\u001b[0;34m.\u001b[0m\u001b[0mencoder\u001b[0m\u001b[0;34m(\u001b[0m\u001b[0mx\u001b[0m\u001b[0;34m)\u001b[0m \u001b[0;31m# (batch_size, seq_len, d_model)\u001b[0m\u001b[0;34m\u001b[0m\u001b[0;34m\u001b[0m\u001b[0m\n\u001b[0m\u001b[1;32m     32\u001b[0m \u001b[0;34m\u001b[0m\u001b[0m\n\u001b[1;32m     33\u001b[0m         \u001b[0;31m# print(f\"Encoder Output: {e_outputs}\")\u001b[0m\u001b[0;34m\u001b[0m\u001b[0;34m\u001b[0m\u001b[0;34m\u001b[0m\u001b[0m\n",
            "\u001b[0;32m/usr/local/lib/python3.7/dist-packages/torch/nn/modules/module.py\u001b[0m in \u001b[0;36m_call_impl\u001b[0;34m(self, *input, **kwargs)\u001b[0m\n\u001b[1;32m    725\u001b[0m             \u001b[0mresult\u001b[0m \u001b[0;34m=\u001b[0m \u001b[0mself\u001b[0m\u001b[0;34m.\u001b[0m\u001b[0m_slow_forward\u001b[0m\u001b[0;34m(\u001b[0m\u001b[0;34m*\u001b[0m\u001b[0minput\u001b[0m\u001b[0;34m,\u001b[0m \u001b[0;34m**\u001b[0m\u001b[0mkwargs\u001b[0m\u001b[0;34m)\u001b[0m\u001b[0;34m\u001b[0m\u001b[0;34m\u001b[0m\u001b[0m\n\u001b[1;32m    726\u001b[0m         \u001b[0;32melse\u001b[0m\u001b[0;34m:\u001b[0m\u001b[0;34m\u001b[0m\u001b[0;34m\u001b[0m\u001b[0m\n\u001b[0;32m--> 727\u001b[0;31m             \u001b[0mresult\u001b[0m \u001b[0;34m=\u001b[0m \u001b[0mself\u001b[0m\u001b[0;34m.\u001b[0m\u001b[0mforward\u001b[0m\u001b[0;34m(\u001b[0m\u001b[0;34m*\u001b[0m\u001b[0minput\u001b[0m\u001b[0;34m,\u001b[0m \u001b[0;34m**\u001b[0m\u001b[0mkwargs\u001b[0m\u001b[0;34m)\u001b[0m\u001b[0;34m\u001b[0m\u001b[0;34m\u001b[0m\u001b[0m\n\u001b[0m\u001b[1;32m    728\u001b[0m         for hook in itertools.chain(\n\u001b[1;32m    729\u001b[0m                 \u001b[0m_global_forward_hooks\u001b[0m\u001b[0;34m.\u001b[0m\u001b[0mvalues\u001b[0m\u001b[0;34m(\u001b[0m\u001b[0;34m)\u001b[0m\u001b[0;34m,\u001b[0m\u001b[0;34m\u001b[0m\u001b[0;34m\u001b[0m\u001b[0m\n",
            "\u001b[0;32m<ipython-input-25-c1130ff91bee>\u001b[0m in \u001b[0;36mforward\u001b[0;34m(self, src)\u001b[0m\n\u001b[1;32m     22\u001b[0m         \u001b[0;31m# (seq_len, batch_size, d_model)\u001b[0m\u001b[0;34m\u001b[0m\u001b[0;34m\u001b[0m\u001b[0;34m\u001b[0m\u001b[0m\n\u001b[1;32m     23\u001b[0m         \u001b[0mx\u001b[0m \u001b[0;34m=\u001b[0m \u001b[0mx\u001b[0m\u001b[0;34m.\u001b[0m\u001b[0mtranspose\u001b[0m\u001b[0;34m(\u001b[0m\u001b[0;36m0\u001b[0m\u001b[0;34m,\u001b[0m\u001b[0;36m1\u001b[0m\u001b[0;34m)\u001b[0m\u001b[0;34m\u001b[0m\u001b[0;34m\u001b[0m\u001b[0m\n\u001b[0;32m---> 24\u001b[0;31m         \u001b[0mx\u001b[0m \u001b[0;34m=\u001b[0m \u001b[0mself\u001b[0m\u001b[0;34m.\u001b[0m\u001b[0mencoder\u001b[0m\u001b[0;34m(\u001b[0m\u001b[0mx\u001b[0m\u001b[0;34m)\u001b[0m\u001b[0;34m\u001b[0m\u001b[0;34m\u001b[0m\u001b[0m\n\u001b[0m\u001b[1;32m     25\u001b[0m         \u001b[0;31m# for i in range(self.N):\u001b[0m\u001b[0;34m\u001b[0m\u001b[0;34m\u001b[0m\u001b[0;34m\u001b[0m\u001b[0m\n\u001b[1;32m     26\u001b[0m         \u001b[0;31m#     x = self.layers[i](x)\u001b[0m\u001b[0;34m\u001b[0m\u001b[0;34m\u001b[0m\u001b[0;34m\u001b[0m\u001b[0m\n",
            "\u001b[0;32m/usr/local/lib/python3.7/dist-packages/torch/nn/modules/module.py\u001b[0m in \u001b[0;36m_call_impl\u001b[0;34m(self, *input, **kwargs)\u001b[0m\n\u001b[1;32m    725\u001b[0m             \u001b[0mresult\u001b[0m \u001b[0;34m=\u001b[0m \u001b[0mself\u001b[0m\u001b[0;34m.\u001b[0m\u001b[0m_slow_forward\u001b[0m\u001b[0;34m(\u001b[0m\u001b[0;34m*\u001b[0m\u001b[0minput\u001b[0m\u001b[0;34m,\u001b[0m \u001b[0;34m**\u001b[0m\u001b[0mkwargs\u001b[0m\u001b[0;34m)\u001b[0m\u001b[0;34m\u001b[0m\u001b[0;34m\u001b[0m\u001b[0m\n\u001b[1;32m    726\u001b[0m         \u001b[0;32melse\u001b[0m\u001b[0;34m:\u001b[0m\u001b[0;34m\u001b[0m\u001b[0;34m\u001b[0m\u001b[0m\n\u001b[0;32m--> 727\u001b[0;31m             \u001b[0mresult\u001b[0m \u001b[0;34m=\u001b[0m \u001b[0mself\u001b[0m\u001b[0;34m.\u001b[0m\u001b[0mforward\u001b[0m\u001b[0;34m(\u001b[0m\u001b[0;34m*\u001b[0m\u001b[0minput\u001b[0m\u001b[0;34m,\u001b[0m \u001b[0;34m**\u001b[0m\u001b[0mkwargs\u001b[0m\u001b[0;34m)\u001b[0m\u001b[0;34m\u001b[0m\u001b[0;34m\u001b[0m\u001b[0m\n\u001b[0m\u001b[1;32m    728\u001b[0m         for hook in itertools.chain(\n\u001b[1;32m    729\u001b[0m                 \u001b[0m_global_forward_hooks\u001b[0m\u001b[0;34m.\u001b[0m\u001b[0mvalues\u001b[0m\u001b[0;34m(\u001b[0m\u001b[0;34m)\u001b[0m\u001b[0;34m,\u001b[0m\u001b[0;34m\u001b[0m\u001b[0;34m\u001b[0m\u001b[0m\n",
            "\u001b[0;32m/usr/local/lib/python3.7/dist-packages/torch/nn/modules/transformer.py\u001b[0m in \u001b[0;36mforward\u001b[0;34m(self, src, mask, src_key_padding_mask)\u001b[0m\n\u001b[1;32m    179\u001b[0m \u001b[0;34m\u001b[0m\u001b[0m\n\u001b[1;32m    180\u001b[0m         \u001b[0;32mfor\u001b[0m \u001b[0mmod\u001b[0m \u001b[0;32min\u001b[0m \u001b[0mself\u001b[0m\u001b[0;34m.\u001b[0m\u001b[0mlayers\u001b[0m\u001b[0;34m:\u001b[0m\u001b[0;34m\u001b[0m\u001b[0;34m\u001b[0m\u001b[0m\n\u001b[0;32m--> 181\u001b[0;31m             \u001b[0moutput\u001b[0m \u001b[0;34m=\u001b[0m \u001b[0mmod\u001b[0m\u001b[0;34m(\u001b[0m\u001b[0moutput\u001b[0m\u001b[0;34m,\u001b[0m \u001b[0msrc_mask\u001b[0m\u001b[0;34m=\u001b[0m\u001b[0mmask\u001b[0m\u001b[0;34m,\u001b[0m \u001b[0msrc_key_padding_mask\u001b[0m\u001b[0;34m=\u001b[0m\u001b[0msrc_key_padding_mask\u001b[0m\u001b[0;34m)\u001b[0m\u001b[0;34m\u001b[0m\u001b[0;34m\u001b[0m\u001b[0m\n\u001b[0m\u001b[1;32m    182\u001b[0m \u001b[0;34m\u001b[0m\u001b[0m\n\u001b[1;32m    183\u001b[0m         \u001b[0;32mif\u001b[0m \u001b[0mself\u001b[0m\u001b[0;34m.\u001b[0m\u001b[0mnorm\u001b[0m \u001b[0;32mis\u001b[0m \u001b[0;32mnot\u001b[0m \u001b[0;32mNone\u001b[0m\u001b[0;34m:\u001b[0m\u001b[0;34m\u001b[0m\u001b[0;34m\u001b[0m\u001b[0m\n",
            "\u001b[0;32m/usr/local/lib/python3.7/dist-packages/torch/nn/modules/module.py\u001b[0m in \u001b[0;36m_call_impl\u001b[0;34m(self, *input, **kwargs)\u001b[0m\n\u001b[1;32m    725\u001b[0m             \u001b[0mresult\u001b[0m \u001b[0;34m=\u001b[0m \u001b[0mself\u001b[0m\u001b[0;34m.\u001b[0m\u001b[0m_slow_forward\u001b[0m\u001b[0;34m(\u001b[0m\u001b[0;34m*\u001b[0m\u001b[0minput\u001b[0m\u001b[0;34m,\u001b[0m \u001b[0;34m**\u001b[0m\u001b[0mkwargs\u001b[0m\u001b[0;34m)\u001b[0m\u001b[0;34m\u001b[0m\u001b[0;34m\u001b[0m\u001b[0m\n\u001b[1;32m    726\u001b[0m         \u001b[0;32melse\u001b[0m\u001b[0;34m:\u001b[0m\u001b[0;34m\u001b[0m\u001b[0;34m\u001b[0m\u001b[0m\n\u001b[0;32m--> 727\u001b[0;31m             \u001b[0mresult\u001b[0m \u001b[0;34m=\u001b[0m \u001b[0mself\u001b[0m\u001b[0;34m.\u001b[0m\u001b[0mforward\u001b[0m\u001b[0;34m(\u001b[0m\u001b[0;34m*\u001b[0m\u001b[0minput\u001b[0m\u001b[0;34m,\u001b[0m \u001b[0;34m**\u001b[0m\u001b[0mkwargs\u001b[0m\u001b[0;34m)\u001b[0m\u001b[0;34m\u001b[0m\u001b[0;34m\u001b[0m\u001b[0m\n\u001b[0m\u001b[1;32m    728\u001b[0m         for hook in itertools.chain(\n\u001b[1;32m    729\u001b[0m                 \u001b[0m_global_forward_hooks\u001b[0m\u001b[0;34m.\u001b[0m\u001b[0mvalues\u001b[0m\u001b[0;34m(\u001b[0m\u001b[0;34m)\u001b[0m\u001b[0;34m,\u001b[0m\u001b[0;34m\u001b[0m\u001b[0;34m\u001b[0m\u001b[0m\n",
            "\u001b[0;32m/usr/local/lib/python3.7/dist-packages/torch/nn/modules/transformer.py\u001b[0m in \u001b[0;36mforward\u001b[0;34m(self, src, src_mask, src_key_padding_mask)\u001b[0m\n\u001b[1;32m    292\u001b[0m         \"\"\"\n\u001b[1;32m    293\u001b[0m         src2 = self.self_attn(src, src, src, attn_mask=src_mask,\n\u001b[0;32m--> 294\u001b[0;31m                               key_padding_mask=src_key_padding_mask)[0]\n\u001b[0m\u001b[1;32m    295\u001b[0m         \u001b[0msrc\u001b[0m \u001b[0;34m=\u001b[0m \u001b[0msrc\u001b[0m \u001b[0;34m+\u001b[0m \u001b[0mself\u001b[0m\u001b[0;34m.\u001b[0m\u001b[0mdropout1\u001b[0m\u001b[0;34m(\u001b[0m\u001b[0msrc2\u001b[0m\u001b[0;34m)\u001b[0m\u001b[0;34m\u001b[0m\u001b[0;34m\u001b[0m\u001b[0m\n\u001b[1;32m    296\u001b[0m         \u001b[0msrc\u001b[0m \u001b[0;34m=\u001b[0m \u001b[0mself\u001b[0m\u001b[0;34m.\u001b[0m\u001b[0mnorm1\u001b[0m\u001b[0;34m(\u001b[0m\u001b[0msrc\u001b[0m\u001b[0;34m)\u001b[0m\u001b[0;34m\u001b[0m\u001b[0;34m\u001b[0m\u001b[0m\n",
            "\u001b[0;32m/usr/local/lib/python3.7/dist-packages/torch/nn/modules/module.py\u001b[0m in \u001b[0;36m_call_impl\u001b[0;34m(self, *input, **kwargs)\u001b[0m\n\u001b[1;32m    725\u001b[0m             \u001b[0mresult\u001b[0m \u001b[0;34m=\u001b[0m \u001b[0mself\u001b[0m\u001b[0;34m.\u001b[0m\u001b[0m_slow_forward\u001b[0m\u001b[0;34m(\u001b[0m\u001b[0;34m*\u001b[0m\u001b[0minput\u001b[0m\u001b[0;34m,\u001b[0m \u001b[0;34m**\u001b[0m\u001b[0mkwargs\u001b[0m\u001b[0;34m)\u001b[0m\u001b[0;34m\u001b[0m\u001b[0;34m\u001b[0m\u001b[0m\n\u001b[1;32m    726\u001b[0m         \u001b[0;32melse\u001b[0m\u001b[0;34m:\u001b[0m\u001b[0;34m\u001b[0m\u001b[0;34m\u001b[0m\u001b[0m\n\u001b[0;32m--> 727\u001b[0;31m             \u001b[0mresult\u001b[0m \u001b[0;34m=\u001b[0m \u001b[0mself\u001b[0m\u001b[0;34m.\u001b[0m\u001b[0mforward\u001b[0m\u001b[0;34m(\u001b[0m\u001b[0;34m*\u001b[0m\u001b[0minput\u001b[0m\u001b[0;34m,\u001b[0m \u001b[0;34m**\u001b[0m\u001b[0mkwargs\u001b[0m\u001b[0;34m)\u001b[0m\u001b[0;34m\u001b[0m\u001b[0;34m\u001b[0m\u001b[0m\n\u001b[0m\u001b[1;32m    728\u001b[0m         for hook in itertools.chain(\n\u001b[1;32m    729\u001b[0m                 \u001b[0m_global_forward_hooks\u001b[0m\u001b[0;34m.\u001b[0m\u001b[0mvalues\u001b[0m\u001b[0;34m(\u001b[0m\u001b[0;34m)\u001b[0m\u001b[0;34m,\u001b[0m\u001b[0;34m\u001b[0m\u001b[0;34m\u001b[0m\u001b[0m\n",
            "\u001b[0;32m/usr/local/lib/python3.7/dist-packages/torch/nn/modules/activation.py\u001b[0m in \u001b[0;36mforward\u001b[0;34m(self, query, key, value, key_padding_mask, need_weights, attn_mask)\u001b[0m\n\u001b[1;32m    983\u001b[0m                 \u001b[0mtraining\u001b[0m\u001b[0;34m=\u001b[0m\u001b[0mself\u001b[0m\u001b[0;34m.\u001b[0m\u001b[0mtraining\u001b[0m\u001b[0;34m,\u001b[0m\u001b[0;34m\u001b[0m\u001b[0;34m\u001b[0m\u001b[0m\n\u001b[1;32m    984\u001b[0m                 \u001b[0mkey_padding_mask\u001b[0m\u001b[0;34m=\u001b[0m\u001b[0mkey_padding_mask\u001b[0m\u001b[0;34m,\u001b[0m \u001b[0mneed_weights\u001b[0m\u001b[0;34m=\u001b[0m\u001b[0mneed_weights\u001b[0m\u001b[0;34m,\u001b[0m\u001b[0;34m\u001b[0m\u001b[0;34m\u001b[0m\u001b[0m\n\u001b[0;32m--> 985\u001b[0;31m                 attn_mask=attn_mask)\n\u001b[0m\u001b[1;32m    986\u001b[0m \u001b[0;34m\u001b[0m\u001b[0m\n\u001b[1;32m    987\u001b[0m \u001b[0;34m\u001b[0m\u001b[0m\n",
            "\u001b[0;32m/usr/local/lib/python3.7/dist-packages/torch/nn/functional.py\u001b[0m in \u001b[0;36mmulti_head_attention_forward\u001b[0;34m(query, key, value, embed_dim_to_check, num_heads, in_proj_weight, in_proj_bias, bias_k, bias_v, add_zero_attn, dropout_p, out_proj_weight, out_proj_bias, training, key_padding_mask, need_weights, attn_mask, use_separate_proj_weight, q_proj_weight, k_proj_weight, v_proj_weight, static_k, static_v)\u001b[0m\n\u001b[1;32m   4142\u001b[0m \u001b[0;34m\u001b[0m\u001b[0m\n\u001b[1;32m   4143\u001b[0m     \u001b[0;32mif\u001b[0m \u001b[0;32mnot\u001b[0m \u001b[0muse_separate_proj_weight\u001b[0m\u001b[0;34m:\u001b[0m\u001b[0;34m\u001b[0m\u001b[0;34m\u001b[0m\u001b[0m\n\u001b[0;32m-> 4144\u001b[0;31m         \u001b[0;32mif\u001b[0m \u001b[0mtorch\u001b[0m\u001b[0;34m.\u001b[0m\u001b[0mequal\u001b[0m\u001b[0;34m(\u001b[0m\u001b[0mquery\u001b[0m\u001b[0;34m,\u001b[0m \u001b[0mkey\u001b[0m\u001b[0;34m)\u001b[0m \u001b[0;32mand\u001b[0m \u001b[0mtorch\u001b[0m\u001b[0;34m.\u001b[0m\u001b[0mequal\u001b[0m\u001b[0;34m(\u001b[0m\u001b[0mkey\u001b[0m\u001b[0;34m,\u001b[0m \u001b[0mvalue\u001b[0m\u001b[0;34m)\u001b[0m\u001b[0;34m:\u001b[0m\u001b[0;34m\u001b[0m\u001b[0;34m\u001b[0m\u001b[0m\n\u001b[0m\u001b[1;32m   4145\u001b[0m             \u001b[0;31m# self-attention\u001b[0m\u001b[0;34m\u001b[0m\u001b[0;34m\u001b[0m\u001b[0;34m\u001b[0m\u001b[0m\n\u001b[1;32m   4146\u001b[0m             \u001b[0mq\u001b[0m\u001b[0;34m,\u001b[0m \u001b[0mk\u001b[0m\u001b[0;34m,\u001b[0m \u001b[0mv\u001b[0m \u001b[0;34m=\u001b[0m \u001b[0mlinear\u001b[0m\u001b[0;34m(\u001b[0m\u001b[0mquery\u001b[0m\u001b[0;34m,\u001b[0m \u001b[0min_proj_weight\u001b[0m\u001b[0;34m,\u001b[0m \u001b[0min_proj_bias\u001b[0m\u001b[0;34m)\u001b[0m\u001b[0;34m.\u001b[0m\u001b[0mchunk\u001b[0m\u001b[0;34m(\u001b[0m\u001b[0;36m3\u001b[0m\u001b[0;34m,\u001b[0m \u001b[0mdim\u001b[0m\u001b[0;34m=\u001b[0m\u001b[0;34m-\u001b[0m\u001b[0;36m1\u001b[0m\u001b[0;34m)\u001b[0m\u001b[0;34m\u001b[0m\u001b[0;34m\u001b[0m\u001b[0m\n",
            "\u001b[0;31mKeyboardInterrupt\u001b[0m: "
          ]
        }
      ]
    },
    {
      "cell_type": "markdown",
      "metadata": {
        "id": "LLoqrQ60tLmJ"
      },
      "source": [
        "# Show Stored Results (Running the model gives following train and test losses)"
      ]
    },
    {
      "cell_type": "code",
      "metadata": {
        "id": "3cnVJtXxtNp1"
      },
      "source": [
        "import matplotlib.pyplot as plt\n",
        "\n",
        "epochs       = list(range(1, 11))\n",
        "test_losses  = [0.0243, 0.0062, 0.0058, 0.0056, 0.0055, 0.0053, 0.0054, 0.0053, 0.0051, 0.0052]\n",
        "train_losses = [76.071918, 67.123883, 62.264362, 58.379173, 54.773908, \n",
        "                51.513827, 48.494338, 45.725490, 43.191196, 40.835008]"
      ],
      "execution_count": 1,
      "outputs": []
    },
    {
      "cell_type": "code",
      "metadata": {
        "id": "yQDObByrtcxW",
        "colab": {
          "base_uri": "https://localhost:8080/",
          "height": 444
        },
        "outputId": "18d3a88c-ab19-43f3-eda2-03695554b6be"
      },
      "source": [
        "plt.figure(figsize=(8, 6), dpi=80)\n",
        "plt.plot(epochs, train_losses, marker='o', color='r')\n",
        "plt.xlabel(\"Epochs\")\n",
        "plt.ylabel(\"Train Mse Loss with L2 Regularization\")\n",
        "plt.title(\"Train loss va epochs\")\n",
        "plt.show()"
      ],
      "execution_count": 2,
      "outputs": [
        {
          "output_type": "display_data",
          "data": {
            "image/png": "[encoded data removed]",
            "text/plain": [
              "<Figure size 640x480 with 1 Axes>"
            ]
          },
          "metadata": {
            "tags": [],
            "needs_background": "light"
          }
        }
      ]
    },
    {
      "cell_type": "code",
      "metadata": {
        "id": "5rjJI8VYtnRq",
        "colab": {
          "base_uri": "https://localhost:8080/",
          "height": 444
        },
        "outputId": "f6eced76-6cf0-4491-b140-27c153466103"
      },
      "source": [
        "plt.figure(figsize=(8, 6), dpi=80)\n",
        "plt.plot(epochs, test_losses, marker='o', color='r')\n",
        "plt.xlabel(\"Epochs\")\n",
        "plt.ylabel(\"Test Mse Loss\")\n",
        "plt.title(\"Test loss va epochs\")\n",
        "plt.show()"
      ],
      "execution_count": 3,
      "outputs": [
        {
          "output_type": "display_data",
          "data": {
            "image/png": "[encoded data removed]",
            "text/plain": [
              "<Figure size 640x480 with 1 Axes>"
            ]
          },
          "metadata": {
            "tags": [],
            "needs_background": "light"
          }
        }
      ]
    },
    {
      "cell_type": "code",
      "metadata": {
        "id": "HGwmSTKffdEM"
      },
      "source": [
        ""
      ],
      "execution_count": null,
      "outputs": []
    }
  ]
}